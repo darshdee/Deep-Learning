{
 "cells": [
  {
   "cell_type": "markdown",
   "metadata": {},
   "source": [
    "# K-Means Clustering\n",
    "\n",
    "### Sample 2D data to get the intuition"
   ]
  },
  {
   "cell_type": "code",
   "execution_count": 2,
   "metadata": {},
   "outputs": [],
   "source": [
    "import matplotlib.pyplot as plt\n",
    "%matplotlib inline\n",
    "import numpy as np\n",
    "from sklearn.cluster import KMeans"
   ]
  },
  {
   "cell_type": "code",
   "execution_count": 3,
   "metadata": {},
   "outputs": [
    {
     "data": {
      "text/plain": [
       "KMeans(algorithm='auto', copy_x=True, init='k-means++', max_iter=300,\n",
       "    n_clusters=3, n_init=10, n_jobs=1, precompute_distances='auto',\n",
       "    random_state=None, tol=0.0001, verbose=0)"
      ]
     },
     "execution_count": 3,
     "metadata": {},
     "output_type": "execute_result"
    },
    {
     "data": {
      "image/png": "[encoded data removed]",
      "text/plain": [
       "<Figure size 432x288 with 1 Axes>"
      ]
     },
     "metadata": {
      "needs_background": "light"
     },
     "output_type": "display_data"
    }
   ],
   "source": [
    "# First we define our unlabelled data. Remember that in Kmeans you dont have y labels to predict\n",
    "X = np.array([[5, 3],  \n",
    "             [10,15],\n",
    "             [15,12],\n",
    "             [24,10],\n",
    "             [30,45],\n",
    "             [85,70],\n",
    "             [71,80],\n",
    "             [60,78],\n",
    "             [55,52],\n",
    "             [80,91],\n",
    "             [90,101],\n",
    "             [100,130]])\n",
    "\n",
    "#Quick visualization of our dataset\n",
    "plt.scatter(X[:,0], X[:,1], label = 'True Position')\n",
    "\n",
    "\n",
    "#Next we create our clustering algorithm\n",
    "kmeans = KMeans(n_clusters=3)    #how many clusters do we want? In this case 2\n",
    "kmeans.fit(X)  #fitting our data"
   ]
  },
  {
   "cell_type": "code",
   "execution_count": 45,
   "metadata": {},
   "outputs": [
    {
     "name": "stdout",
     "output_type": "stream",
     "text": [
      "[0 0 0 0 0 1 1 1 1 1 2 2]\n"
     ]
    }
   ],
   "source": [
    "#Lets take a look at which datapoint got assigned to which cluster! (0 or 1)\n",
    "print(kmeans.labels_)  "
   ]
  },
  {
   "cell_type": "code",
   "execution_count": 47,
   "metadata": {},
   "outputs": [
    {
     "data": {
      "text/plain": [
       "Text(13,120,'<- This is your data')"
      ]
     },
     "execution_count": 47,
     "metadata": {},
     "output_type": "execute_result"
    },
    {
     "data": {
      "image/png": "[encoded data removed]",
      "text/plain": [
       "<Figure size 432x288 with 1 Axes>"
      ]
     },
     "metadata": {
      "needs_background": "light"
     },
     "output_type": "display_data"
    }
   ],
   "source": [
    "#finally we can visualize the datapoints assigned to diff clusters\n",
    "\"\"\" this is just a trick where we plot first column against second to see the clusters\"\"\"\n",
    "plt.scatter(X[:,0],X[:,1], c=[0,0,0,0,0,1,1,1,1,1,2,2], cmap='rainbow')\n",
    "\n",
    "plt.plot(t[0][0],t[0][1], '.', c= 'black', markersize=20) \n",
    "plt.text(t[0][0]+3,t[0][1], '<- This is your data', ha='left', rotation=8, wrap=True)"
   ]
  },
  {
   "cell_type": "code",
   "execution_count": 20,
   "metadata": {},
   "outputs": [
    {
     "data": {
      "text/plain": [
       "array([1])"
      ]
     },
     "execution_count": 20,
     "metadata": {},
     "output_type": "execute_result"
    }
   ],
   "source": [
    "#heres how you predict with 2 test examples\n",
    "kmeans.predict([[10,120]])"
   ]
  },
  {
   "cell_type": "markdown",
   "metadata": {},
   "source": [
    "## Saving the model for Flask Deployment"
   ]
  },
  {
   "cell_type": "code",
   "execution_count": 10,
   "metadata": {},
   "outputs": [
    {
     "data": {
      "text/plain": [
       "['basic_kmeans']"
      ]
     },
     "execution_count": 10,
     "metadata": {},
     "output_type": "execute_result"
    }
   ],
   "source": [
    "from sklearn.externals import joblib\n",
    "joblib.dump(kmeans,'basic_kmeans')"
   ]
  }
 ],
 "metadata": {
  "kernelspec": {
   "display_name": "Python [conda env:Anaconda3]",
   "language": "python",
   "name": "conda-env-Anaconda3-py"
  },
  "language_info": {
   "codemirror_mode": {
    "name": "ipython",
    "version": 3
   },
   "file_extension": ".py",
   "mimetype": "text/x-python",
   "name": "python",
   "nbconvert_exporter": "python",
   "pygments_lexer": "ipython3",
   "version": "3.6.4"
  }
 },
 "nbformat": 4,
 "nbformat_minor": 2
}
