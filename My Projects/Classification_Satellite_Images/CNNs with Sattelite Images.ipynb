{
 "cells": [
  {
   "cell_type": "markdown",
   "metadata": {},
   "source": [
    "# Classifying Whether Satellite Images Have Airplanes or Not?\n",
    "### - Darshil Desai\n",
    "\n",
    "In this project I will employ the use of Convolutional Neural Networks (using Keras) to create a model that classifies whether a satellite image contains airplanes or not. The dataset is sourced from  [Kaggle](https://www.kaggle.com/rhammell/planesnet) and comprises of features being images (falattened our into nxn rows of each feature being a pixel value) and output labels<br>\n",
    "\n",
    "Thanks for reading!\n",
    "<br>\n",
    "\n",
    "#### Other References: \n",
    "[Other Clustering Project](https://medium.com/@h4k1m0u/clustering-a-satellite-image-with-scikit-learn-14adb2ca3790) <br>\n",
    "[Image Source](https://developers.planet.com/planetschool/)"
   ]
  },
  {
   "cell_type": "code",
   "execution_count": 32,
   "metadata": {},
   "outputs": [],
   "source": [
    "#----------data preprocessing-------\n",
    "\n",
    "import pandas as pd\n",
    "import numpy as np\n",
    "import matplotlib.pyplot as plt\n",
    "import random\n",
    "\n",
    "#------Neural Networks-----------\n",
    "import keras\n",
    "from keras import regularizers\n",
    "from keras.datasets import mnist\n",
    "from keras.models import Sequential\n",
    "from keras.layers import Dense, Dropout, Conv2D, MaxPooling2D, Flatten\n",
    "from keras.optimizers import RMSprop\n",
    "from keras.preprocessing.image import ImageDataGenerator"
   ]
  },
  {
   "cell_type": "markdown",
   "metadata": {},
   "source": [
    "### Data Preprocessing\n",
    "\n",
    "Before we move on to crafting the CNN architecture we need to \"create\" usable data from the image data we have. Briefly preprocessing will involve: \n",
    "\n",
    "- 1) Reading in the dataset\n",
    "- 2) Viewing an image to confirm its read in correctly\n",
    "- 3) Converting our \"data\" column (to size 1x1200, 400 RGB each) into a dataframe of size 32000x1200 wherein 32K represents the number of images \n",
    "- 4) UNIFORMLY resize and create new data out of dataframe and convert dataframe to numpy array of size num_datax20x20x3 \n",
    "- 5) Split into training and testing followed by one-hot coding the labels\n",
    "- 6) Train the model without data augmentation\n",
    "- 7) Training the model using data augmentation. Here we artificially create expand our existing dataset by slightly modifying existing images to create new training data"
   ]
  },
  {
   "cell_type": "markdown",
   "metadata": {},
   "source": [
    "### (1) Reading in data"
   ]
  },
  {
   "cell_type": "code",
   "execution_count": 5,
   "metadata": {},
   "outputs": [
    {
     "data": {
      "text/html": [
       "<div>\n",
       "<style scoped>\n",
       "    .dataframe tbody tr th:only-of-type {\n",
       "        vertical-align: middle;\n",
       "    }\n",
       "\n",
       "    .dataframe tbody tr th {\n",
       "        vertical-align: top;\n",
       "    }\n",
       "\n",
       "    .dataframe thead th {\n",
       "        text-align: right;\n",
       "    }\n",
       "</style>\n",
       "<table border=\"1\" class=\"dataframe\">\n",
       "  <thead>\n",
       "    <tr style=\"text-align: right;\">\n",
       "      <th></th>\n",
       "      <th>data</th>\n",
       "      <th>labels</th>\n",
       "      <th>locations</th>\n",
       "      <th>scene_ids</th>\n",
       "    </tr>\n",
       "  </thead>\n",
       "  <tbody>\n",
       "    <tr>\n",
       "      <th>0</th>\n",
       "      <td>[206, 195, 187, 183, 177, 175, 174, 193, 198, ...</td>\n",
       "      <td>1</td>\n",
       "      <td>[-118.40497658522878, 33.940618514147936]</td>\n",
       "      <td>20170620_175442_0e30</td>\n",
       "    </tr>\n",
       "    <tr>\n",
       "      <th>1</th>\n",
       "      <td>[215, 209, 200, 196, 192, 197, 205, 168, 155, ...</td>\n",
       "      <td>1</td>\n",
       "      <td>[-122.392469714, 37.6176425378]</td>\n",
       "      <td>20161212_180859_0e30</td>\n",
       "    </tr>\n",
       "    <tr>\n",
       "      <th>2</th>\n",
       "      <td>[204, 214, 220, 219, 213, 205, 198, 193, 199, ...</td>\n",
       "      <td>1</td>\n",
       "      <td>[-122.397578597, 37.6209247852]</td>\n",
       "      <td>20170524_181349_0e2f</td>\n",
       "    </tr>\n",
       "    <tr>\n",
       "      <th>3</th>\n",
       "      <td>[179, 174, 179, 178, 173, 170, 168, 168, 168, ...</td>\n",
       "      <td>1</td>\n",
       "      <td>[-122.214849831, 37.7203378331]</td>\n",
       "      <td>20161110_180707_0e1f</td>\n",
       "    </tr>\n",
       "    <tr>\n",
       "      <th>4</th>\n",
       "      <td>[222, 222, 218, 214, 208, 205, 207, 206, 206, ...</td>\n",
       "      <td>1</td>\n",
       "      <td>[-117.862173435, 33.6796854072]</td>\n",
       "      <td>20160813_184932_0c64</td>\n",
       "    </tr>\n",
       "  </tbody>\n",
       "</table>\n",
       "</div>"
      ],
      "text/plain": [
       "                                                data  labels  \\\n",
       "0  [206, 195, 187, 183, 177, 175, 174, 193, 198, ...       1   \n",
       "1  [215, 209, 200, 196, 192, 197, 205, 168, 155, ...       1   \n",
       "2  [204, 214, 220, 219, 213, 205, 198, 193, 199, ...       1   \n",
       "3  [179, 174, 179, 178, 173, 170, 168, 168, 168, ...       1   \n",
       "4  [222, 222, 218, 214, 208, 205, 207, 206, 206, ...       1   \n",
       "\n",
       "                                   locations             scene_ids  \n",
       "0  [-118.40497658522878, 33.940618514147936]  20170620_175442_0e30  \n",
       "1            [-122.392469714, 37.6176425378]  20161212_180859_0e30  \n",
       "2            [-122.397578597, 37.6209247852]  20170524_181349_0e2f  \n",
       "3            [-122.214849831, 37.7203378331]  20161110_180707_0e1f  \n",
       "4            [-117.862173435, 33.6796854072]  20160813_184932_0c64  "
      ]
     },
     "execution_count": 5,
     "metadata": {},
     "output_type": "execute_result"
    }
   ],
   "source": [
    "\"\"\"\n",
    "1. Reading in Json file\n",
    "\"\"\"\n",
    "data_df = pd.read_json('planesnet.json')\n",
    "\n",
    "#lets take a look at our data\n",
    "data_df.head()"
   ]
  },
  {
   "cell_type": "code",
   "execution_count": null,
   "metadata": {},
   "outputs": [],
   "source": [
    "\"\"\" \n",
    "Lets take a look at dataframe data_df\n",
    "-----------------------------\n",
    "\n",
    "- Data  : a list of 1200 pixel values of each image\n",
    "- labels : 0 or 1 for plane or no-plane in the image\n",
    "Everything else is redundant\n",
    "\"\"\""
   ]
  },
  {
   "cell_type": "markdown",
   "metadata": {},
   "source": [
    "### (2) Viewing the image\n",
    "\n",
    "We'll go ahead and view the image in its full size (comprising 1200 pixels). To the human eye this highly pixelated image is meaningless! "
   ]
  },
  {
   "cell_type": "code",
   "execution_count": 20,
   "metadata": {},
   "outputs": [
    {
     "data": {
      "image/png": "[encoded data removed]",
      "text/plain": [
       "<Figure size 432x288 with 1 Axes>"
      ]
     },
     "metadata": {
      "needs_background": "light"
     },
     "output_type": "display_data"
    }
   ],
   "source": [
    "#Lets take a look at the image!\n",
    "\n",
    "image_num = 2200\n",
    "a = np.array(data_df.iloc[image_num,0]).reshape(20,20,3)\n",
    "plt.imshow(a)\n",
    "\n",
    "if data_df.iloc[image_num,1] == 1:\n",
    "    plt.title('Image number is: {} and there are airplanes in this image'.format(image_num))\n",
    "else:\n",
    "    plt.title('Image number is: {} and there are NO airplanes in this image'.format(image_num))\n",
    "    \n"
   ]
  },
  {
   "cell_type": "markdown",
   "metadata": {},
   "source": [
    "### (3) Combining all image vectors into a dataframe along with the correct class"
   ]
  },
  {
   "cell_type": "code",
   "execution_count": 22,
   "metadata": {},
   "outputs": [
    {
     "name": "stdout",
     "output_type": "stream",
     "text": [
      "Size of this dataframe: 32000\n"
     ]
    }
   ],
   "source": [
    "\"\"\"\n",
    "3. Pandas series to dataframe and then we need to randomly shuffle \n",
    "(https://stackoverflow.com/questions/45901018/convert-pandas-series-of-lists-to-dataframe)\n",
    "\n",
    "We're also going to add the label column to our pixel_df\n",
    "\"\"\"\n",
    "#Now we're going to transpose \n",
    "pixel_df = pd.DataFrame.from_items(zip(data_df['data'].index, data_df['data'].values)).T\n",
    "\n",
    "#adding the label column\n",
    "pixel_df['labels'] = data_df['labels']\n",
    "pixel_df.head()\n",
    "\n",
    "print ('Size of this dataframe: {}'.format(pixel_df.shape[0] ))"
   ]
  },
  {
   "cell_type": "markdown",
   "metadata": {},
   "source": [
    "### (4) Uniformly distributing our dataset"
   ]
  },
  {
   "cell_type": "code",
   "execution_count": 23,
   "metadata": {},
   "outputs": [
    {
     "name": "stdout",
     "output_type": "stream",
     "text": [
      "Confirming that our dataset is uniformly distributed \n",
      " --------------------------\n",
      "1    8000\n",
      "0    7999\n",
      "Name: labels, dtype: int64\n"
     ]
    }
   ],
   "source": [
    "\"\"\"\n",
    "Convert Pandas dataframe of size 32000x1200 to numpy array of size 32Kx1200\n",
    "NOTE! We need to reshape our data to size number_of_datapoints x 20x20x3 where 20x20x3 are the dimensions \n",
    "..for each colored image\n",
    "\n",
    "Furthermore, its important to understand that because the labels in our dataset are not uniform, ie: there are 24K images \n",
    "...with no planes and only 8K images with planes in them, it is important to uniformly distribute the data to train on\n",
    "\"\"\"\n",
    "\n",
    "\n",
    "#------------creating a uniform dataset-------------\n",
    "\n",
    "#random seed\n",
    "random.seed(2)\n",
    "#We create a new dataframe that we will append to \n",
    "new_df = pd.DataFrame(index=[0], columns=pixel_df.columns)\n",
    "new_df = new_df.fillna(0)\n",
    "\n",
    "#determine size of dataset (can go max 8K for label==1)\n",
    "size_dataset = 16000\n",
    "\n",
    "for x in list(set(pixel_df['labels'])):\n",
    "    \n",
    "    #first we subset the datatframe\n",
    "    a = pixel_df[pixel_df['labels']==x]\n",
    "    \n",
    "    #randomly choose N/2 indices\n",
    "    rands = random.sample(list(a.index),int(size_dataset/2))\n",
    "    \n",
    "    #pick the indices\n",
    "    b = a.loc[rands] \n",
    "    \n",
    "    #append to existing dataframe \n",
    "    new_df = pd.concat([new_df,b])\n",
    "    \n",
    "    #dropping first row which was just initialized to 0\n",
    "    new_df = new_df.iloc[1:,:].dropna(axis=0)\n",
    "    \n",
    "#RANDOMLY SHUFFLE AGAIN\n",
    "rands1 = random.sample(list(new_df.index),size_dataset-1)\n",
    "new_df = new_df.loc[rands1]\n",
    "        \n",
    "print ('Confirming that our dataset is uniformly distributed', '\\n', \n",
    "       '--------------------------')\n",
    "print (new_df['labels'].value_counts(dropna=False))\n",
    "\n",
    "shuffled_pixel_df= new_df"
   ]
  },
  {
   "cell_type": "markdown",
   "metadata": {},
   "source": [
    "### (5) Split dataset into training and test"
   ]
  },
  {
   "cell_type": "code",
   "execution_count": 24,
   "metadata": {},
   "outputs": [
    {
     "name": "stdout",
     "output_type": "stream",
     "text": [
      "Size of training data:  15200 \n",
      " Size of training data labels:  15200 \n",
      " \n",
      "\n",
      "Size of test data:  799 \n",
      " Size of test data labels:  799\n",
      "Confirming that the training and test data sizes equal to total size of dataset:  15999\n"
     ]
    }
   ],
   "source": [
    "#---determine training and test data sizes-----\n",
    "training_size = int(0.95 * size_dataset)\n",
    "\n",
    "#-----training data-----\n",
    "training_data = np.array(shuffled_pixel_df.iloc[0:training_size,:1200])\n",
    "training_data_labels = np.array(pd.get_dummies(shuffled_pixel_df.iloc[0:training_size,1200]))  #one-hot coding and then converting to numpy\n",
    "print ('Size of training data: ',training_data.shape[0], '\\n',\n",
    "      'Size of training data labels: ',training_data_labels.shape[0] , '\\n \\n')\n",
    "\n",
    "#-----test data-----\n",
    "test_data = np.array(shuffled_pixel_df.iloc[training_size:,:1200])\n",
    "test_data_labels = np.array(pd.get_dummies(shuffled_pixel_df.iloc[training_size:,1200]))\n",
    "print ('Size of test data: ',test_data.shape[0], '\\n',\n",
    "      'Size of test data labels: ',test_data_labels.shape[0] )\n",
    "\n",
    "\n",
    "print ('Confirming that the training and test data sizes equal to total size of dataset: ', training_data.shape[0] + test_data.shape[0])\n",
    "\n",
    "\n",
    "\n",
    "#reshaping our training and test data HERE!\n",
    "training_pixel_np = training_data.reshape(training_size,20,20,3)\n",
    "test_pixel_np = test_data.reshape(test_data.shape[0],20,20,3)"
   ]
  },
  {
   "cell_type": "code",
   "execution_count": 25,
   "metadata": {},
   "outputs": [
    {
     "name": "stdout",
     "output_type": "stream",
     "text": [
      "Training data shape after reshaping:  (15200, 20, 20, 3) \n",
      " Test data shape after reshaping:  (799, 20, 20, 3)\n"
     ]
    }
   ],
   "source": [
    "print ('Training data shape after reshaping: ', training_pixel_np.shape,'\\n',\n",
    "'Test data shape after reshaping: ', test_pixel_np.shape)"
   ]
  },
  {
   "cell_type": "markdown",
   "metadata": {},
   "source": [
    "## (6)Training the model without Data Augmentation"
   ]
  },
  {
   "cell_type": "code",
   "execution_count": 112,
   "metadata": {},
   "outputs": [],
   "source": [
    "model = Sequential()\n",
    "\n",
    "model.add(Conv2D(64,kernel_size=(3,3), activation='relu', input_shape = (20,20,3),kernel_regularizer=regularizers.l2(0.01)))\n",
    "model.add(MaxPooling2D(pool_size=(2,2)))\n",
    "model.add(Dropout(0.25))\n",
    "\n",
    "model.add(Conv2D(128,kernel_size=(3,3), activation='relu', input_shape = (20,20,3),kernel_regularizer=regularizers.l2(0.01)))\n",
    "model.add(MaxPooling2D(pool_size=(2,2)))\n",
    "model.add(Dropout(0.25))\n",
    "\n",
    "model.add(Flatten())\n",
    "model.add(Dense(128,activation='relu',kernel_regularizer=regularizers.l2(0.01)))\n",
    "model.add(Dense(2, activation = 'softmax'))"
   ]
  },
  {
   "cell_type": "code",
   "execution_count": 113,
   "metadata": {},
   "outputs": [
    {
     "name": "stdout",
     "output_type": "stream",
     "text": [
      "_________________________________________________________________\n",
      "Layer (type)                 Output Shape              Param #   \n",
      "=================================================================\n",
      "conv2d_77 (Conv2D)           (None, 18, 18, 64)        1792      \n",
      "_________________________________________________________________\n",
      "max_pooling2d_75 (MaxPooling (None, 9, 9, 64)          0         \n",
      "_________________________________________________________________\n",
      "dropout_24 (Dropout)         (None, 9, 9, 64)          0         \n",
      "_________________________________________________________________\n",
      "conv2d_78 (Conv2D)           (None, 7, 7, 128)         73856     \n",
      "_________________________________________________________________\n",
      "max_pooling2d_76 (MaxPooling (None, 3, 3, 128)         0         \n",
      "_________________________________________________________________\n",
      "dropout_25 (Dropout)         (None, 3, 3, 128)         0         \n",
      "_________________________________________________________________\n",
      "flatten_20 (Flatten)         (None, 1152)              0         \n",
      "_________________________________________________________________\n",
      "dense_31 (Dense)             (None, 128)               147584    \n",
      "_________________________________________________________________\n",
      "dense_32 (Dense)             (None, 2)                 258       \n",
      "=================================================================\n",
      "Total params: 223,490\n",
      "Trainable params: 223,490\n",
      "Non-trainable params: 0\n",
      "_________________________________________________________________\n"
     ]
    }
   ],
   "source": [
    "\n",
    "#print out model summary\n",
    "model.summary()\n",
    "\n",
    "model.compile(loss = 'categorical_crossentropy',\n",
    "             optimizer = 'adam',\n",
    "             metrics = ['accuracy'])"
   ]
  },
  {
   "cell_type": "code",
   "execution_count": 114,
   "metadata": {},
   "outputs": [],
   "source": [
    "num_epochs = 10\n",
    "\n",
    "history = model.fit(training_pixel_np,training_data_labels,\n",
    "                   batch_size = 200,\n",
    "                   epochs=num_epochs,\n",
    "                   verbose=0,\n",
    "                   validation_data = (test_pixel_np, test_data_labels))"
   ]
  },
  {
   "cell_type": "markdown",
   "metadata": {},
   "source": [
    "### Plotting Training Accuracies & Loss"
   ]
  },
  {
   "cell_type": "code",
   "execution_count": 115,
   "metadata": {},
   "outputs": [
    {
     "data": {
      "text/plain": [
       "Text(0.5,1,'Training Loss')"
      ]
     },
     "execution_count": 115,
     "metadata": {},
     "output_type": "execute_result"
    },
    {
     "data": {
      "image/png": "[encoded data removed]",
      "text/plain": [
       "<Figure size 1440x720 with 2 Axes>"
      ]
     },
     "metadata": {
      "needs_background": "light"
     },
     "output_type": "display_data"
    }
   ],
   "source": [
    "plt.figure(figsize=(20,10))\n",
    "\n",
    "plt.subplot(2,2,1)\n",
    "plt.plot( range(1,num_epochs+1),history.history['acc'])\n",
    "plt.title('Training Accuracy', fontsize=16)\n",
    "\n",
    "plt.subplot(2,2,2)\n",
    "plt.plot( range(1,num_epochs+1),history.history['loss'])\n",
    "plt.title('Training Loss', fontsize=16)"
   ]
  },
  {
   "cell_type": "markdown",
   "metadata": {},
   "source": [
    "### Plotting Validation Data Accuracies & Loss"
   ]
  },
  {
   "cell_type": "code",
   "execution_count": 116,
   "metadata": {},
   "outputs": [
    {
     "data": {
      "text/plain": [
       "Text(0.5,1,'Validation Loss')"
      ]
     },
     "execution_count": 116,
     "metadata": {},
     "output_type": "execute_result"
    },
    {
     "data": {
      "image/png": "[encoded data removed]",
      "text/plain": [
       "<Figure size 1440x720 with 2 Axes>"
      ]
     },
     "metadata": {
      "needs_background": "light"
     },
     "output_type": "display_data"
    }
   ],
   "source": [
    "plt.figure(figsize=(20,10))\n",
    "\n",
    "plt.subplot(2,2,1)\n",
    "plt.plot( range(1,11),history.history['val_acc'])\n",
    "plt.title('Validation Accuracy', fontsize=16)\n",
    "\n",
    "plt.subplot(2,2,2)\n",
    "plt.plot( range(1,11),history.history['val_loss'])\n",
    "plt.title('Validation Loss', fontsize=16)"
   ]
  },
  {
   "cell_type": "markdown",
   "metadata": {},
   "source": [
    "### Using the model to predict whether an images has airplanes or not"
   ]
  },
  {
   "cell_type": "code",
   "execution_count": 127,
   "metadata": {},
   "outputs": [
    {
     "name": "stdout",
     "output_type": "stream",
     "text": [
      "The model predicts there are NO airplanes in this image. The actual classification : Yes planes\n"
     ]
    },
    {
     "data": {
      "image/png": "[encoded data removed]",
      "text/plain": [
       "<Figure size 432x288 with 1 Axes>"
      ]
     },
     "metadata": {
      "needs_background": "light"
     },
     "output_type": "display_data"
    }
   ],
   "source": [
    "a = np.array(training_pixel_np[1:2]).reshape(20,20,3)\n",
    "plt.imshow(a)\n",
    "\n",
    "#---------------\n",
    "preds = model.predict_classes(training_pixel_np[1:2])\n",
    "\n",
    "\n",
    "\n",
    "if training_data_labels[1:2][0][1] == 1:\n",
    "    actual = ': Yes planes'\n",
    "else: \n",
    "    actual = ': No planes'\n",
    "\n",
    "\n",
    "if preds[0] == 0:\n",
    "    print ('The model predicts there are NO airplanes in this image. The actual classification {}'.format(actual))\n",
    "else:\n",
    "    print ('The model predicts that there ARE airplanes in this image. The actual classification {}'.format(actual))\n",
    "\n",
    "    \n",
    "    \n",
    "    "
   ]
  },
  {
   "cell_type": "code",
   "execution_count": 128,
   "metadata": {},
   "outputs": [
    {
     "data": {
      "text/plain": [
       "array([[1., 0.],\n",
       "       [1., 0.],\n",
       "       [1., 0.],\n",
       "       [1., 0.],\n",
       "       [1., 0.],\n",
       "       [1., 0.],\n",
       "       [1., 0.],\n",
       "       [1., 0.],\n",
       "       [1., 0.]], dtype=float32)"
      ]
     },
     "execution_count": 128,
     "metadata": {},
     "output_type": "execute_result"
    }
   ],
   "source": [
    "#lets take random images and predict\n",
    "preds = model.predict(training_pixel_np[1:10])\n",
    "\n",
    "np.round(preds)"
   ]
  },
  {
   "cell_type": "markdown",
   "metadata": {},
   "source": [
    "## (7) Neural Network:  Model Using Data Augmentation\n",
    "\n",
    "In this case we will apply the same convolutional neural network architecture but by using a much larger training dataset"
   ]
  },
  {
   "cell_type": "code",
   "execution_count": 129,
   "metadata": {},
   "outputs": [
    {
     "name": "stdout",
     "output_type": "stream",
     "text": [
      "_________________________________________________________________\n",
      "Layer (type)                 Output Shape              Param #   \n",
      "=================================================================\n",
      "conv2d_79 (Conv2D)           (None, 18, 18, 64)        1792      \n",
      "_________________________________________________________________\n",
      "max_pooling2d_77 (MaxPooling (None, 9, 9, 64)          0         \n",
      "_________________________________________________________________\n",
      "dropout_26 (Dropout)         (None, 9, 9, 64)          0         \n",
      "_________________________________________________________________\n",
      "conv2d_80 (Conv2D)           (None, 7, 7, 128)         73856     \n",
      "_________________________________________________________________\n",
      "max_pooling2d_78 (MaxPooling (None, 3, 3, 128)         0         \n",
      "_________________________________________________________________\n",
      "dropout_27 (Dropout)         (None, 3, 3, 128)         0         \n",
      "_________________________________________________________________\n",
      "flatten_21 (Flatten)         (None, 1152)              0         \n",
      "_________________________________________________________________\n",
      "dense_33 (Dense)             (None, 128)               147584    \n",
      "_________________________________________________________________\n",
      "dense_34 (Dense)             (None, 2)                 258       \n",
      "=================================================================\n",
      "Total params: 223,490\n",
      "Trainable params: 223,490\n",
      "Non-trainable params: 0\n",
      "_________________________________________________________________\n"
     ]
    }
   ],
   "source": [
    "model = Sequential()\n",
    "\n",
    "model.add(Conv2D(64,kernel_size=(3,3), activation='relu', input_shape = (20,20,3),kernel_regularizer=regularizers.l2(0.01)))\n",
    "model.add(MaxPooling2D(pool_size=(2,2)))\n",
    "model.add(Dropout(0.25))\n",
    "\n",
    "model.add(Conv2D(128,kernel_size=(3,3), activation='relu', input_shape = (20,20,3),kernel_regularizer=regularizers.l2(0.01)))\n",
    "model.add(MaxPooling2D(pool_size=(2,2)))\n",
    "model.add(Dropout(0.25))\n",
    "\n",
    "model.add(Flatten())\n",
    "model.add(Dense(128,activation='relu',kernel_regularizer=regularizers.l2(0.01)))\n",
    "model.add(Dense(2, activation = 'softmax'))\n",
    "#print out model summary\n",
    "model.summary()\n",
    "\n",
    "model.compile(loss = 'categorical_crossentropy',\n",
    "             optimizer = 'adam',\n",
    "             metrics = ['accuracy'])"
   ]
  },
  {
   "cell_type": "code",
   "execution_count": 130,
   "metadata": {},
   "outputs": [],
   "source": [
    "image_gen = ImageDataGenerator(\n",
    "    #featurewise_center=True,\n",
    "    #featurewise_std_normalization=True,\n",
    "    rescale=1./255,\n",
    "    rotation_range=15,   #rotate images\n",
    "    width_shift_range=.15,\n",
    "    height_shift_range=.15,\n",
    "    horizontal_flip=True)   #flip horizontally\n",
    "\n",
    "#training the image preprocessing\n",
    "image_gen.fit(training_pixel_np, augment=True)"
   ]
  },
  {
   "cell_type": "code",
   "execution_count": 131,
   "metadata": {},
   "outputs": [
    {
     "data": {
      "text/plain": [
       "<keras.callbacks.History at 0x1f72d2317f0>"
      ]
     },
     "execution_count": 131,
     "metadata": {},
     "output_type": "execute_result"
    }
   ],
   "source": [
    "\"\"\"\n",
    "HOW DATA AUGMENTATION WORKS?\n",
    "Data augmentation works as follows: at each learning epoch transformations with randomly \n",
    "selected parameters within the specified range are applied to all original images in the training set. \n",
    "After an epoch is completed, i.e. after having exposed a learning algorithm to the entire set of training data, \n",
    "the next learning epoch is started and training data is once again augmented by applying specified transformations \n",
    "to the original training data.\n",
    "\n",
    "Important parameters: \n",
    "batch_size = selected batch of training data fed to NN\n",
    "steps_per_epoch = batch size forward and back propogated this many times for each epoch. \n",
    "   ...I think this number = number of augmented images for each image\n",
    "\n",
    "\n",
    "\"\"\"\n",
    "num_epochs  = 10\n",
    "\n",
    "model.fit_generator(image_gen.flow(training_pixel_np, training_data_labels, batch_size=200),           \n",
    "          steps_per_epoch = training_pixel_np.shape[0]/32,\n",
    "          epochs=num_epochs,\n",
    "          verbose=0,\n",
    "          validation_data = (test_pixel_np, test_data_labels))"
   ]
  },
  {
   "cell_type": "markdown",
   "metadata": {},
   "source": [
    "### Plotting Training Accuracies & Loss"
   ]
  },
  {
   "cell_type": "code",
   "execution_count": 132,
   "metadata": {},
   "outputs": [
    {
     "data": {
      "text/plain": [
       "Text(0.5,1,'Training Loss')"
      ]
     },
     "execution_count": 132,
     "metadata": {},
     "output_type": "execute_result"
    },
    {
     "data": {
      "image/png": "[encoded data removed]",
      "text/plain": [
       "<Figure size 1440x720 with 2 Axes>"
      ]
     },
     "metadata": {
      "needs_background": "light"
     },
     "output_type": "display_data"
    }
   ],
   "source": [
    "plt.figure(figsize=(20,10))\n",
    "\n",
    "plt.subplot(2,2,1)\n",
    "plt.plot( range(1,num_epochs+1),history.history['acc'])\n",
    "plt.title('Training Accuracy', fontsize=16)\n",
    "\n",
    "plt.subplot(2,2,2)\n",
    "plt.plot( range(1,num_epochs+1),history.history['loss'])\n",
    "plt.title('Training Loss', fontsize=16)"
   ]
  },
  {
   "cell_type": "markdown",
   "metadata": {},
   "source": [
    "### Plotting Validation Data Accuracies & Loss"
   ]
  },
  {
   "cell_type": "code",
   "execution_count": 133,
   "metadata": {},
   "outputs": [
    {
     "data": {
      "text/plain": [
       "Text(0.5,1,'Validation Loss')"
      ]
     },
     "execution_count": 133,
     "metadata": {},
     "output_type": "execute_result"
    },
    {
     "data": {
      "image/png": "[encoded data removed]",
      "text/plain": [
       "<Figure size 1440x720 with 2 Axes>"
      ]
     },
     "metadata": {
      "needs_background": "light"
     },
     "output_type": "display_data"
    }
   ],
   "source": [
    "plt.figure(figsize=(20,10))\n",
    "\n",
    "plt.subplot(2,2,1)\n",
    "plt.plot( range(1,11),history.history['val_acc'])\n",
    "plt.title('Validation Accuracy', fontsize=16)\n",
    "\n",
    "plt.subplot(2,2,2)\n",
    "plt.plot( range(1,11),history.history['val_loss'])\n",
    "plt.title('Validation Loss', fontsize=16)"
   ]
  },
  {
   "cell_type": "markdown",
   "metadata": {},
   "source": [
    "The training and validation accuracy and loss results prove to be quite perplexing! The loss seems to decrease but the accuracy remains the same and unchanged. \n",
    "\n",
    "I believe such a phenomenon occurs when minimizing a binary cross-entropy loss if the predicted value (normalized into probabilities) for the correct label might increase gradually lets say from 0.2 to 0.3 to 0.38 but not crossing the classification threshold of 0.5. In this case we could argue that the model loss is indeed improving but that improvement can be rendered useless when using it to classify. \n",
    "\n",
    "Furthermore the model architecture is very basic due to limited computational resources on my end (Fun fact: I began training the model, went grocery shopping, came back to find it running for 10 epochs..) but I'm sure increased number of layers would be the first step in improving model results. "
   ]
  },
  {
   "cell_type": "markdown",
   "metadata": {},
   "source": [
    "### Using the model to predict whether an images has airplanes or not"
   ]
  },
  {
   "cell_type": "code",
   "execution_count": 134,
   "metadata": {},
   "outputs": [
    {
     "name": "stdout",
     "output_type": "stream",
     "text": [
      "The model predicts that there ARE airplanes in this image\n"
     ]
    },
    {
     "data": {
      "image/png": "[encoded data removed]",
      "text/plain": [
       "<Figure size 432x288 with 1 Axes>"
      ]
     },
     "metadata": {
      "needs_background": "light"
     },
     "output_type": "display_data"
    }
   ],
   "source": [
    "a = np.array(training_pixel_np[1:2]).reshape(20,20,3)\n",
    "plt.imshow(a)\n",
    "\n",
    "preds = model.predict_classes(training_pixel_np[1:2])\n",
    "\n",
    "if preds[0] == 0:\n",
    "    print ('The model predicts there are NO airplanes in this image')\n",
    "else:\n",
    "    print ('The model predicts that there ARE airplanes in this image')\n",
    "    "
   ]
  },
  {
   "cell_type": "code",
   "execution_count": null,
   "metadata": {},
   "outputs": [],
   "source": [
    "#lets take random images and predict\n",
    "a = model.predict(training_pixel_np[1:15])\n",
    "np.round(a)"
   ]
  },
  {
   "cell_type": "markdown",
   "metadata": {},
   "source": [
    "### Conclusion\n",
    "\n",
    "\n",
    "\n",
    "The CNN architectures used in this project yield poor results. This of course is partly because of limiting the network architecture to small sizes in the interest of saving a lot of training time on my local computer. My goal for this project was to learn how to wrangle image data into usable training data and play around with the CNN architecture. \n",
    "\n",
    "I hope you like the project thanks again for reading!"
   ]
  }
 ],
 "metadata": {
  "kernelspec": {
   "display_name": "Python [conda env:Anaconda3]",
   "language": "python",
   "name": "conda-env-Anaconda3-py"
  },
  "language_info": {
   "codemirror_mode": {
    "name": "ipython",
    "version": 3
   },
   "file_extension": ".py",
   "mimetype": "text/x-python",
   "name": "python",
   "nbconvert_exporter": "python",
   "pygments_lexer": "ipython3",
   "version": "3.6.6"
  }
 },
 "nbformat": 4,
 "nbformat_minor": 2
}
