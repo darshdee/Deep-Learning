{
 "cells": [
  {
   "cell_type": "code",
   "execution_count": 2,
   "metadata": {},
   "outputs": [],
   "source": [
    "import cv2\n",
    "import matplotlib.pyplot as plt\n",
    "import numpy as np\n",
    "from PIL import ImageGrab"
   ]
  },
  {
   "cell_type": "markdown",
   "metadata": {},
   "source": [
    "# Webcam"
   ]
  },
  {
   "cell_type": "code",
   "execution_count": 2,
   "metadata": {},
   "outputs": [],
   "source": [
    "face_cascade = cv2.CascadeClassifier('C:/Users/Darshil/Desktop/Dreams/haarcascade_frontalface_default.xml')\n",
    "eye_cascade = cv2.CascadeClassifier('C:/Users/Darshil/Desktop/Dreams/haarcascade_eye.xml')\n",
    "smile_cascade = cv2.CascadeClassifier('C:/Users/Darshil/Desktop/Dreams/haarcascade_smile.xml')\n",
    "\n",
    "\n",
    "cap = cv2.VideoCapture(0)\n",
    "font = cv2.FONT_HERSHEY_SIMPLEX\n",
    "while True:\n",
    "    ret, img = cap.read()\n",
    "    gray = cv2.cvtColor(img, cv2.COLOR_BGR2GRAY)    \n",
    "    faces = face_cascade.detectMultiScale(gray,1.3,5) \n",
    "    \n",
    "    \n",
    "    for (x,y,w,h) in faces:\n",
    "        cv2.rectangle(img,(x,y),(x+w,y+h),(255,0,0),2)\n",
    "        roi_gray = gray[y:y+h,x:x+w]\n",
    "        roi_color = img[y:y+h,x:x+w]\n",
    "        cv2.putText(img,'Face spotted!', (x,y),font,0.7,(200,255,255),1,cv2.LINE_AA)  #IMAGE,text,position start,font,size,color,thickness,-\n",
    "        \n",
    "        smiles = smile_cascade.detectMultiScale(roi_gray,1.3,5) \n",
    "        for (x, y, w, h) in smiles:\n",
    "            cv2.rectangle(roi_color, (x, y), (x+w, y+h), (0, 0, 255), 1)\n",
    "        \n",
    "        eyes = eye_cascade.detectMultiScale(roi_gray)        \n",
    "        for (ex,ey,ew,eh) in eyes:            \n",
    "            cv2.rectangle(roi_color,(ex,ey),(ex+ew,ey+eh),(0,255,0),2)\n",
    "            \n",
    "    \n",
    "    cv2.imshow('img',img)\n",
    "    \n",
    "    \n",
    "    if cv2.waitKey(5)== ord('q'):        \n",
    "        break\n",
    "        \n",
    "cv2.destroyAllWindows()\n",
    "cap.release()"
   ]
  },
  {
   "cell_type": "markdown",
   "metadata": {},
   "source": [
    "# Screen Grabs\n",
    "## Faces, eyes and smiles"
   ]
  },
  {
   "cell_type": "code",
   "execution_count": 36,
   "metadata": {},
   "outputs": [],
   "source": [
    "face_cascade = cv2.CascadeClassifier('C:/Users/Darshil/Desktop/Dreams/haarcascade_frontalface_default.xml')\n",
    "eye_cascade = cv2.CascadeClassifier('C:/Users/Darshil/Desktop/Dreams/haarcascade_eye.xml')\n",
    "smile_cascade = cv2.CascadeClassifier('C:/Users/Darshil/Desktop/Dreams/haarcascade_smile.xml')\n",
    "car_cascade = cv2.CascadeClassifier('C:/Users/Darshil/Desktop/Dreams/haarcascade_licence_plate_rus_16stages.xml')\n",
    "\n",
    "cap = cv2.VideoCapture(0)\n",
    "\n",
    "while True:\n",
    "        \n",
    "    printscreen_pil = ImageGrab.grab()\n",
    "    printscreen_numpy1 = np.array(printscreen_pil.getdata(),dtype= np.uint8).reshape((printscreen_pil.size[1],printscreen_pil.size[0],3))\n",
    "    printscreen_numpy = cv2.cvtColor(printscreen_numpy1, cv2.COLOR_BGR2RGB)\n",
    "    gray = cv2.cvtColor(printscreen_numpy, cv2.COLOR_BGR2GRAY)    \n",
    "    faces = face_cascade.detectMultiScale(gray,1.3,5)\n",
    "    \n",
    "    for (x,y,w,h) in faces:\n",
    "        cv2.rectangle(printscreen_numpy,(x,y),(x+w,y+h),(255,0,0),2)\n",
    "        roi_gray = gray[y:y+h,x:x+w]\n",
    "        roi_color = printscreen_numpy[y:y+h,x:x+w]\n",
    "        cv2.putText(printscreen_numpy,'Face spotted!', (x,y),font,0.7,(0,255,255),1,cv2.LINE_AA)  #IMAGE,text,position start,font,size,color,thickness,-\n",
    "        \n",
    "        smiles = smile_cascade.detectMultiScale(roi_gray,1.3,5) \n",
    "        for (x, y, w, h) in smiles:\n",
    "            cv2.rectangle(roi_color, (x, y), (x+w, y+h), (0, 0, 255), 1)\n",
    "        \n",
    "        eyes = eye_cascade.detectMultiScale(roi_gray)        \n",
    "        for (ex,ey,ew,eh) in eyes:            \n",
    "            cv2.rectangle(roi_color,(ex,ey),(ex+ew,ey+eh),(0,255,0),2)\n",
    "    \n",
    "        \n",
    "        \n",
    "    cv2.imshow('img',printscreen_numpy)\n",
    "    if cv2.waitKey(5)== ord('q'):        \n",
    "        break\n",
    "        \n",
    "cv2.destroyAllWindows()\n",
    "cap.release()"
   ]
  },
  {
   "cell_type": "markdown",
   "metadata": {},
   "source": [
    "## Screen Grabs - Full Body "
   ]
  },
  {
   "cell_type": "code",
   "execution_count": 4,
   "metadata": {},
   "outputs": [],
   "source": [
    "\n",
    "body_cascade = cv2.CascadeClassifier('C:/Users/Darshil/Desktop/Dreams/haarcascade_fullbody.xml')\n",
    "\n",
    "cap = cv2.VideoCapture(0)\n",
    "font = cv2.FONT_HERSHEY_SIMPLEX\n",
    "\n",
    "while True:\n",
    "        \n",
    "    printscreen_pil = ImageGrab.grab()\n",
    "    printscreen_numpy = np.array(printscreen_pil.getdata(),dtype= np.uint8).reshape((printscreen_pil.size[1],printscreen_pil.size[0],3))\n",
    "    gray = cv2.cvtColor(printscreen_numpy, cv2.COLOR_BGR2GRAY)    \n",
    "    bodies = body_cascade.detectMultiScale(gray,1.3,5)\n",
    "    \n",
    "    for (x,y,w,h) in bodies:\n",
    "        cv2.rectangle(printscreen_numpy,(x,y),(x+w,y+h),(255,0,0),2)\n",
    "        roi_gray = gray[y:y+h,x:x+w]\n",
    "        roi_color = printscreen_numpy[y:y+h,x:x+w]\n",
    "        cv2.putText(printscreen_numpy,'Thats a person!', (x,y),font,0.7,(200,255,255),1,cv2.LINE_AA)  #IMAGE,text,position start,font,size,color,thickness,-\n",
    "        \n",
    "\n",
    "    cv2.imshow('img',cv2.cvtColor(printscreen_numpy, cv2.COLOR_BGR2RGB))\n",
    "    if cv2.waitKey(5)== ord('q'):        \n",
    "        break\n",
    "        \n",
    "cv2.destroyAllWindows()\n",
    "cap.release()"
   ]
  },
  {
   "cell_type": "code",
   "execution_count": 30,
   "metadata": {},
   "outputs": [
    {
     "data": {
      "text/plain": [
       "<CascadeClassifier 000001485D63AB10>"
      ]
     },
     "execution_count": 30,
     "metadata": {},
     "output_type": "execute_result"
    }
   ],
   "source": [
    "body = cv2.CascadeClassifier('C:/Users/Darshil/Desktop/Dreams/haarcascade_fullbody.xml')\n",
    "body"
   ]
  }
 ],
 "metadata": {
  "kernelspec": {
   "display_name": "Python [conda env:Anaconda3]",
   "language": "python",
   "name": "conda-env-Anaconda3-py"
  }
 },
 "nbformat": 4,
 "nbformat_minor": 2
}
